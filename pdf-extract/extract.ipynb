{
 "cells": [
  {
   "cell_type": "code",
   "execution_count": 1,
   "metadata": {},
   "outputs": [],
   "source": [
    "import pdffuncs as pf\n",
    "from importlib import reload"
   ]
  },
  {
   "cell_type": "code",
   "execution_count": 2,
   "metadata": {},
   "outputs": [
    {
     "ename": "FileNotFoundError",
     "evalue": "[Errno 2] No such file or directory: 'data/The Secrets of Skyhorn Lighthouse V7.pdf'",
     "output_type": "error",
     "traceback": [
      "\u001b[0;31m---------------------------------------------------------------------------\u001b[0m",
      "\u001b[0;31mFileNotFoundError\u001b[0m                         Traceback (most recent call last)",
      "\u001b[1;32m/home/joe/pdf-extract/extract.ipynb Cell 2\u001b[0m in \u001b[0;36m<cell line: 3>\u001b[0;34m()\u001b[0m\n\u001b[1;32m      <a href='vscode-notebook-cell://wsl%2Bubuntu/home/joe/pdf-extract/extract.ipynb#ch0000001vscode-remote?line=0'>1</a>\u001b[0m reload(pf)\n\u001b[0;32m----> <a href='vscode-notebook-cell://wsl%2Bubuntu/home/joe/pdf-extract/extract.ipynb#ch0000001vscode-remote?line=2'>3</a>\u001b[0m \u001b[39mwith\u001b[39;00m \u001b[39mopen\u001b[39;49m(\u001b[39m\"\u001b[39;49m\u001b[39mdata/The Secrets of Skyhorn Lighthouse V7.pdf\u001b[39;49m\u001b[39m\"\u001b[39;49m, \u001b[39m'\u001b[39;49m\u001b[39mrb\u001b[39;49m\u001b[39m'\u001b[39;49m) \u001b[39mas\u001b[39;00m f:\n\u001b[1;32m      <a href='vscode-notebook-cell://wsl%2Bubuntu/home/joe/pdf-extract/extract.ipynb#ch0000001vscode-remote?line=3'>4</a>\u001b[0m     \u001b[39mprint\u001b[39m(\u001b[39m\"\u001b[39m\u001b[39mOpened\u001b[39m\u001b[39m\"\u001b[39m)\n\u001b[1;32m      <a href='vscode-notebook-cell://wsl%2Bubuntu/home/joe/pdf-extract/extract.ipynb#ch0000001vscode-remote?line=4'>5</a>\u001b[0m     result \u001b[39m=\u001b[39m pf\u001b[39m.\u001b[39mparse_document(f, \u001b[39m0\u001b[39m, \u001b[39m10\u001b[39m)\n",
      "\u001b[0;31mFileNotFoundError\u001b[0m: [Errno 2] No such file or directory: 'data/The Secrets of Skyhorn Lighthouse V7.pdf'"
     ]
    }
   ],
   "source": [
    "reload(pf)\n",
    "\n",
    "with open(\"data/The Secrets of Skyhorn Lighthouse V7.pdf\", 'rb') as f:\n",
    "    print(\"Opened\")\n",
    "    result = pf.parse_document(f, 0, 10)"
   ]
  },
  {
   "cell_type": "code",
   "execution_count": 43,
   "metadata": {},
   "outputs": [
    {
     "name": "stdout",
     "output_type": "stream",
     "text": [
      "<p> Property of Elderbrain. Issued to Joe E. Order #1736</p>\n",
      "\n"
     ]
    }
   ],
   "source": [
    "result.outline\n",
    "for b in result.pages[0].children:\n",
    "    for l in b.lines:\n",
    "        print(pf.format_line_as_html(l))\n",
    "    print()"
   ]
  },
  {
   "cell_type": "code",
   "execution_count": 48,
   "metadata": {},
   "outputs": [
    {
     "data": {
      "text/plain": [
       "NoneType"
      ]
     },
     "execution_count": 48,
     "metadata": {},
     "output_type": "execute_result"
    }
   ],
   "source": [
    "type(result)"
   ]
  }
 ],
 "metadata": {
  "kernelspec": {
   "display_name": "Python 3.9.5 ('env': venv)",
   "language": "python",
   "name": "python3"
  },
  "language_info": {
   "codemirror_mode": {
    "name": "ipython",
    "version": 3
   },
   "file_extension": ".py",
   "mimetype": "text/x-python",
   "name": "python",
   "nbconvert_exporter": "python",
   "pygments_lexer": "ipython3",
   "version": "3.9.5"
  },
  "orig_nbformat": 4,
  "vscode": {
   "interpreter": {
    "hash": "e0e65472979c31cfd6d4f6c292ef0087990ada93651467674330c116557b1c41"
   }
  }
 },
 "nbformat": 4,
 "nbformat_minor": 2
}
