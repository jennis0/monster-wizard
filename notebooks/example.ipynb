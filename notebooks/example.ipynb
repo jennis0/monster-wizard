{
 "cells": [
  {
   "cell_type": "code",
   "execution_count": null,
   "metadata": {},
   "outputs": [],
   "source": [
    "import os\r\n",
    "import sys\r\n",
    "sys.path.append(\"../\")\r\n",
    "%load_ext autoreload"
   ]
  },
  {
   "cell_type": "code",
   "execution_count": null,
   "metadata": {},
   "outputs": [],
   "source": [
    "os.listdir(\"..\\data\")\r\n",
    "path = \"..\\data\"\r\n",
    "targets = []\r\n",
    "for folder in os.listdir(path):\r\n",
    "    for f in os.listdir(os.path.join(path, folder)):\r\n",
    "        #if f.endswith(\".png\") or f.endswith(\".jpg\"):\r\n",
    "        if f.endswith(\".pdf\"):\r\n",
    "            targets.append(os.path.join(path, folder, f))\r\n",
    "print(targets)"
   ]
  },
  {
   "cell_type": "code",
   "execution_count": null,
   "metadata": {},
   "outputs": [],
   "source": [
    "%autoreload 2\r\n",
    "\r\n",
    "from data_loaders.textract_image_loader import TextractImageLoader\r\n",
    "from data_loaders.pdf_loader import PDFLoader\r\n",
    "\r\n",
    "from outputs.default_writer import DefaultWriter\r\n",
    "from outputs.pluto_writer import PlutoWriter\r\n",
    "\r\n",
    "from extractor import StatblockExtractor\r\n",
    "from utils.config import get_config, get_argparser\r\n",
    "from utils.logger import get_logger\r\n",
    "\r\n",
    "from fifthedition.creature_printer import pretty_format_creature\r\n",
    "\r\n",
    "# Get arguments\r\n",
    "parser = get_argparser()\r\n",
    "args = parser.parse_args([\"..\\data\\clockwork_drake\\clockwork_drake.jpg\", \"--config\", r\"..\\default.conf\", \"--cache\",  r\"..\\.cache\"])\r\n",
    "print(args)\r\n",
    "\r\n",
    "# Get config file\r\n",
    "config = get_config(args)\r\n",
    "config.set(\"default\", \"use_cache\", \"true\")\r\n",
    "\r\n",
    "logger = get_logger(args.debug, args.notebook, args.logs)\r\n",
    "\r\n",
    "se = StatblockExtractor(config, logger)\r\n",
    "se.register_data_loader(TextractImageLoader)\r\n",
    "se.register_data_loader(PDFLoader)\r\n",
    "\r\n",
    "se.register_output_writer(DefaultWriter, append=True)\r\n",
    "se.register_output_writer(PlutoWriter, append=True)"
   ]
  },
  {
   "cell_type": "code",
   "execution_count": null,
   "metadata": {
    "tags": []
   },
   "outputs": [],
   "source": [
    "args.output = \"../outclassed.json\"\r\n",
    "args.output_format = \"5et\"\r\n",
    "\r\n",
    "se.select_writer(args.output_format)\r\n",
    "\r\n",
    "for target in targets[-3:-2]:\r\n",
    "    print(target)\r\n",
    "    logger.info(\"Loading creatures from {}\".format(target))\r\n",
    "    \r\n",
    "    results = se.parse(target, args.output, pages=[3])\r\n",
    "    parsed_statblocks, statblocks = results\r\n",
    "\r\n",
    "    num_pages = len(statblocks.keys())\r\n",
    "    logger.info(\"Found {} page{} of statblocks\".format(num_pages, 's' if num_pages > 1 else ''))\r\n",
    "    \r\n",
    "    for page in parsed_statblocks:\r\n",
    "        print(\"Page {}:\".format(page))\r\n",
    "        for creature in parsed_statblocks[page]:\r\n",
    "            print()\r\n",
    "            print(pretty_format_creature(creature))\r\n",
    "            print()"
   ]
  },
  {
   "cell_type": "code",
   "execution_count": null,
   "metadata": {},
   "outputs": [],
   "source": [
    "results[1][5][0].lines"
   ]
  },
  {
   "cell_type": "code",
   "execution_count": null,
   "metadata": {},
   "outputs": [],
   "source": []
  }
 ],
 "metadata": {
  "kernelspec": {
   "display_name": "dndparser",
   "language": "python",
   "name": "dndparser"
  },
  "language_info": {
   "codemirror_mode": {
    "name": "ipython",
    "version": 3
   },
   "file_extension": ".py",
   "mimetype": "text/x-python",
   "name": "python",
   "nbconvert_exporter": "python",
   "pygments_lexer": "ipython3",
   "version": "3.9.5"
  }
 },
 "nbformat": 4,
 "nbformat_minor": 2
}