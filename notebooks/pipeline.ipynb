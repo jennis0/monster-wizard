{
 "cells": [
  {
   "cell_type": "code",
   "execution_count": 1,
   "metadata": {},
   "outputs": [],
   "source": [
    "import os\r\n",
    "import sys\r\n",
    "sys.path.append(\"../\")\r\n",
    "%load_ext autoreload"
   ]
  },
  {
   "cell_type": "code",
   "execution_count": 3,
   "metadata": {},
   "outputs": [
    {
     "name": "stdout",
     "output_type": "stream",
     "text": [
      "['..\\\\data\\\\images\\\\922210-OUTCLASSED_Expansion__Tashas_Panopticon_of_Nemeses-05.png', '..\\\\data\\\\images\\\\922210-OUTCLASSED_Expansion__Tashas_Panopticon_of_Nemeses-14.png', '..\\\\data\\\\images\\\\922210-OUTCLASSED_Expansion__Tashas_Panopticon_of_Nemeses-17.png', '..\\\\data\\\\images\\\\922210-OUTCLASSED_Expansion__Tashas_Panopticon_of_Nemeses-22.png', '..\\\\data\\\\images\\\\clockwork_drake.jpg', '..\\\\data\\\\images\\\\crelvohr.png', '..\\\\data\\\\images\\\\hermit_1.png', '..\\\\data\\\\images\\\\hermit_2.png', '..\\\\data\\\\images\\\\Monster a Day Compendium V2-004.png', '..\\\\data\\\\images\\\\Monster a Day Compendium V2-016.png', '..\\\\data\\\\images\\\\Monster a Day Compendium V2-048.png', '..\\\\data\\\\images\\\\Monster a Day Compendium V2-067.png', '..\\\\data\\\\images\\\\priest_and_scout.png', '..\\\\data\\\\images\\\\rak_tulkesh.png', '..\\\\data\\\\images\\\\The Lord of the Deep.png']\n"
     ]
    }
   ],
   "source": [
    "os.listdir(\"..\\data\")\n",
    "path = \"..\\data\"\n",
    "targets = []\n",
    "for folder in os.listdir(path):\n",
    "    for f in os.listdir(os.path.join(path, folder)):\n",
    "        if f.endswith(\".png\") or f.endswith(\".jpg\"):\n",
    "            targets.append(os.path.join(path, folder, f))\n",
    "print(targets)"
   ]
  },
  {
   "cell_type": "code",
   "execution_count": 54,
   "metadata": {},
   "outputs": [
    {
     "name": "stdout",
     "output_type": "stream",
     "text": [
      "Namespace(targets=['..\\\\data\\\\clockwork_drake\\\\clockwork_drake.jpg'], source=None, authors=None, url=None, output=None, output_format='default', cache='..\\\\.cache', config='..\\\\default.conf', logs=None, debug=False, notebook=True)\n"
     ]
    }
   ],
   "source": [
    "%autoreload 2\r\n",
    "\r\n",
    "from data_loaders.textract_image_loader import TextractImageLoader\r\n",
    "from data_loaders.pdf_loader import PDFLoader\r\n",
    "\r\n",
    "from outputs.default_writer import DefaultWriter\r\n",
    "from outputs.pluto_writer import PlutoWriter\r\n",
    "\r\n",
    "from extractor import StatblockExtractor\r\n",
    "from utils.config import get_config, get_argparser\r\n",
    "from utils.logger import get_logger\r\n",
    "\r\n",
    "from fifthedition.creature_printer import pretty_format_creature\r\n",
    "\r\n",
    "# Get arguments\r\n",
    "parser = get_argparser()\r\n",
    "args = parser.parse_args([\"..\\data\\clockwork_drake\\clockwork_drake.jpg\", \"--config\", r\"..\\default.conf\", \"--cache\",  r\"..\\.cache\", \"--notebook\" ])\r\n",
    "print(args)\r\n",
    "\r\n",
    "# Get config file\r\n",
    "config = get_config(args.config)\r\n",
    "\r\n",
    "logger = get_logger(args.debug, args.notebook, args.logs)\r\n",
    "\r\n",
    "se = StatblockExtractor(config, logger)\r\n",
    "se.register_data_loader(TextractImageLoader)\r\n",
    "se.register_data_loader(PDFLoader)\r\n",
    "\r\n",
    "se.register_output_writer(DefaultWriter, append=True)\r\n",
    "se.register_output_writer(PlutoWriter, append=True)"
   ]
  },
  {
   "cell_type": "code",
   "execution_count": 55,
   "metadata": {
    "tags": []
   },
   "outputs": [
    {
     "name": "stderr",
     "output_type": "stream",
     "text": [
      "Failed to find CREATURE_TYPES in Huge\n",
      "Failed to validate parsed schema for creature_type. Error was:\n",
      "\n",
      "Key 'type' error:\n",
      "Or('any', And(<class 'str'>, Use(<method 'lower' of 'str' objects>), <function enum_str.<locals>.<lambda> at 0x000002D827602F70>)) did not validate ''\n",
      "'any' does not match ''\n",
      "<lambda>('') should evaluate to True\n",
      "\n"
     ]
    },
    {
     "name": "stdout",
     "output_type": "stream",
     "text": [
      "..\\data\\images\\922210-OUTCLASSED_Expansion__Tashas_Panopticon_of_Nemeses-05.png\n",
      "Writing\n",
      "..\\data\\images\\922210-OUTCLASSED_Expansion__Tashas_Panopticon_of_Nemeses-14.png\n",
      "Writing\n",
      "..\\data\\images\\922210-OUTCLASSED_Expansion__Tashas_Panopticon_of_Nemeses-17.png\n",
      "Writing\n",
      "..\\data\\images\\922210-OUTCLASSED_Expansion__Tashas_Panopticon_of_Nemeses-22.png\n",
      "Writing\n",
      "..\\data\\images\\clockwork_drake.jpg\n",
      "Writing\n",
      "..\\data\\images\\crelvohr.png\n",
      "Writing\n",
      "..\\data\\images\\hermit_1.png\n"
     ]
    },
    {
     "name": "stderr",
     "output_type": "stream",
     "text": [
      "Missing proper value for attribute wis. Guessing 4 based on modifier (-3)\n",
      "Failed to parse attribute string 14 (+2) 16 (+3)\n"
     ]
    },
    {
     "name": "stdout",
     "output_type": "stream",
     "text": [
      "Writing\n",
      "..\\data\\images\\hermit_2.png\n",
      "Writing\n",
      "..\\data\\images\\Monster a Day Compendium V2-004.png\n",
      "Writing\n",
      "..\\data\\images\\Monster a Day Compendium V2-016.png\n",
      "Writing\n",
      "..\\data\\images\\Monster a Day Compendium V2-048.png\n",
      "Writing"
     ]
    },
    {
     "name": "stderr",
     "output_type": "stream",
     "text": [
      "Failed to read number of slots for spell level /day each: banishing smite, blinding smite, staggering\n"
     ]
    },
    {
     "name": "stdout",
     "output_type": "stream",
     "text": [
      "\n",
      "..\\data\\images\\Monster a Day Compendium V2-067.png\n",
      "Writing\n",
      "..\\data\\images\\priest_and_scout.png\n",
      "Writing\n",
      "..\\data\\images\\rak_tulkesh.png\n",
      "Writing\n",
      "..\\data\\images\\The Lord of the Deep.png\n",
      "Writing\n"
     ]
    }
   ],
   "source": [
    "args.output = \"../images.json\"\r\n",
    "args.output_format = \"5et\"\r\n",
    "\r\n",
    "se.select_writer(args.output_format)\r\n",
    "\r\n",
    "for target in targets:\r\n",
    "    print(target)\r\n",
    "    logger.info(\"Loading creatures from {}\".format(target))\r\n",
    "    \r\n",
    "    results = se.parse(target, args.output)\r\n",
    "    parsed_statblocks, statblocks = results\r\n",
    "\r\n",
    "    num_pages = len(statblocks.keys())\r\n",
    "    logger.info(\"Found {} page{} of statblocks\".format(num_pages, 's' if num_pages > 1 else ''))\r\n",
    "    \r\n",
    "    # for page in parsed_statblocks:\r\n",
    "    #     print(\"Page {}:\".format(page))\r\n",
    "    #     for creature in parsed_statblocks[page]:\r\n",
    "    #         print()\r\n",
    "    #         print(pretty_format_creature(creature))\r\n",
    "    #         print()"
   ]
  },
  {
   "cell_type": "code",
   "execution_count": null,
   "metadata": {},
   "outputs": [],
   "source": []
  }
 ],
 "metadata": {
  "kernelspec": {
   "display_name": "dndparser",
   "language": "python",
   "name": "dndparser"
  },
  "language_info": {
   "codemirror_mode": {
    "name": "ipython",
    "version": 3
   },
   "file_extension": ".py",
   "mimetype": "text/x-python",
   "name": "python",
   "nbconvert_exporter": "python",
   "pygments_lexer": "ipython3",
   "version": "3.9.5"
  }
 },
 "nbformat": 4,
 "nbformat_minor": 2
}